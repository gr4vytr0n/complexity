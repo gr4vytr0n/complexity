{
 "cells": [
  {
   "cell_type": "code",
   "execution_count": 15,
   "metadata": {},
   "outputs": [
    {
     "name": "stdout",
     "output_type": "stream",
     "text": [
      "{0: {'connected': False, 'p': 0.30658633619358155}, 1: {'connected': False, 'p': 0.019328655473589973}, 2: {'connected': True, 'p': 0.29340615637729706}, 3: {'connected': False, 'p': 0.0054925787493017575}, 4: {'connected': True, 'p': 0.3203653910425678}, 5: {'connected': False, 'p': 0.09628568008553262}, 6: {'connected': True, 'p': 0.9345770355072767}, 7: {'connected': True, 'p': 0.7710507204780277}, 8: {'connected': True, 'p': 0.9383678396265959}, 9: {'connected': False, 'p': 0.16050975401492873}}\n"
     ]
    }
   ],
   "source": [
    "from phaseChange import generate_graphs\n",
    "import random\n",
    "import matplotlib.pyplot as plt\n",
    "\n",
    "master = {}\n",
    "g = generate_graphs()\n",
    "for i in range(len(g)):\n",
    "    p = random.uniform(0, 1)\n",
    "    g[i].add_random_edges(p)\n",
    "    master[i] = {}\n",
    "    master[i]['connected'] = g[i].is_connected()\n",
    "    master[i]['p'] = p\n",
    "\n",
    "print(master)"
   ]
  },
  {
   "cell_type": "code",
   "execution_count": 18,
   "metadata": {},
   "outputs": [],
   "source": [
    "for i in master:\n",
    "    if master[i]['connected'] == True:\n",
    "        plt.plot(master[i]['p'], 1, 'bo')\n",
    "    else:\n",
    "        plt.plot(master[i]['p'], 0, 'ro')\n",
    "\n",
    "fig = plt.figure()\n",
    "plt.show()"
   ]
  },
  {
   "cell_type": "code",
   "execution_count": 19,
   "metadata": {},
   "outputs": [
    {
     "data": {
      "image/png": "[encoded data removed]",
      "text/plain": [
       "<matplotlib.figure.Figure at 0x7f646b88f198>"
      ]
     },
     "metadata": {},
     "output_type": "display_data"
    },
    {
     "data": {
      "text/plain": [
       "<matplotlib.figure.Figure at 0x7f646b9fae80>"
      ]
     },
     "metadata": {},
     "output_type": "display_data"
    }
   ],
   "source": [
    "fig = plt.figure()\n",
    "plt.show()"
   ]
  },
  {
   "cell_type": "code",
   "execution_count": null,
   "metadata": {
    "collapsed": true
   },
   "outputs": [],
   "source": []
  }
 ],
 "metadata": {
  "kernelspec": {
   "display_name": "Python 3",
   "language": "python",
   "name": "python3"
  },
  "language_info": {
   "codemirror_mode": {
    "name": "ipython",
    "version": 3
   },
   "file_extension": ".py",
   "mimetype": "text/x-python",
   "name": "python",
   "nbconvert_exporter": "python",
   "pygments_lexer": "ipython3",
   "version": "3.6.3"
  }
 },
 "nbformat": 4,
 "nbformat_minor": 2
}
